{
 "cells": [
  {
   "cell_type": "markdown",
   "metadata": {},
   "source": [
    "🇧🇷 CPC-CONSTITUTE\n",
    "---\n",
    "\n",
    "## Centro de Política Parada: Constitute\n",
    "\n",
    "<img src=\"img/cpc.jpg\" width=\"50%\" heigth=\"50%\" />\n",
    "\n",
    "Este projeto visa a criação de uma plataforma que disponibilize **informações constitucionais sobre o funcionamento dos sistemas de governo** em democracias a nível global, por via da interação com a API do **[Project Constitute](https://www.constituteproject.org/)**, além de redes de notícias, enciclopédias e citações acadêmicas.\n",
    "\n",
    "O **[Centro de Política Comparada (CPC)](http://www.cpc.ufes.br)** é um núcleo de pesquisas vinculado ao Departamento de Ciências Sociais (DCSO) da Universidade Federal do Espírito Santo (Ufes), fundado e registrado no Diretório dos Grupos de Pesquisa no Brasil, do CNPq, em 2016.\n",
    "\n",
    "### Estágio de desenvolvimento\n",
    "\n",
    "O projeto encontra-se com o código para obtenção de dados e interação com API já desenvolvido, podendo ser executado localmente ou por plataformas virtuais como o [Colab](https://colab.research.google.com/). Sugestões de futuras atualizações incluem a revisão e reestruturação dos arquivos do repositório, focado no desenvolvimento de um webaplicativo que vise integrar os resultados do código desenvolvido. Funções desenvolvidas:\n",
    "\n",
    "* Interagir com a API do Constitute Project para realizar buscas e demais ações;\n",
    "* Disponibilizar o acesso a dados sobre o modo de organização dos sistemas de governo;\n",
    "* Comparar características entre sistemas presidencialistas, parlamentaristas e híbridos;\n",
    "* Possibilitar pesquisas de excertos e temáticas presentes nos textos constitucionais;\n",
    "* Buscar publicações associadas às constituições pesquisadas e a artigos acadêmicos;\n",
    "* Capturar notícias recentes do conceito ou país pesquisado pelo MediaCloud/News API;\n",
    "* Coletar dados de tweets publicados a priori na última semana com \"política\" atualmente;\n",
    "* Pesquisar correlações entre páginas da Wikipédia sobre os termos de busca utilizados.\n",
    "\n",
    "### Importar bibliotecas"
   ]
  },
  {
   "cell_type": "code",
   "execution_count": null,
   "metadata": {},
   "outputs": [],
   "source": [
    "import sys\n",
    "from os.path import dirname, realpath\n",
    "path = realpath('.')\n",
    "if path not in sys.path:\n",
    "    sys.path.append(path)"
   ]
  },
  {
   "cell_type": "code",
   "execution_count": null,
   "metadata": {},
   "outputs": [],
   "source": [
    "import networkx as nx\n",
    "import pandas as pd\n",
    "import plotly.offline as py\n",
    "import webbrowser\n",
    "\n",
    "import src as cpc\n",
    "import cpc.__init__\n",
    "\n",
    "py.init_notebook_mode(connected=True)\n",
    "\n",
    "%load_ext autoreload\n",
    "%autoreload 2"
   ]
  },
  {
   "cell_type": "markdown",
   "metadata": {},
   "source": [
    "### Importar credenciais\n",
    "\n",
    "Necessário para obter dados das plataformas `News API`, `MediaCloud` e `Twitter`."
   ]
  },
  {
   "cell_type": "code",
   "execution_count": null,
   "metadata": {},
   "outputs": [],
   "source": [
    "mcloud_key   = cpc.cfg.MCLOUD_KEY\n",
    "newsapi_key  = cpc.cfg.NEWSAPI_KEY\n",
    "app_keys     = cpc.cfg.TWITTER_KEYS\n",
    "app_key      = cpc.cfg.TWITTER_TOKENS[0][0]\n",
    "app_secret   = cpc.cfg.TWITTER_TOKENS[0][1]\n",
    "oauth_token  = cpc.cfg.TWITTER_TOKENS[0][2]\n",
    "oauth_secret = cpc.cfg.TWITTER_TOKENS[0][3]"
   ]
  },
  {
   "cell_type": "markdown",
   "metadata": {},
   "source": [
    "#### Definir credenciais manualmente (opcional)"
   ]
  },
  {
   "cell_type": "code",
   "execution_count": null,
   "metadata": {},
   "outputs": [],
   "source": [
    "#mcloud_key   = \"\"\n",
    "#newsapi_key  = \"\"\n",
    "#app_keys     = \"\"\n",
    "#app_key      = \"\"\n",
    "#app_secret   = \"\"\n",
    "#oauth_token  = \"\"\n",
    "#oauth_secret = c\"\""
   ]
  },
  {
   "cell_type": "markdown",
   "metadata": {},
   "source": [
    "### Constitute\n",
    "\n",
    "URL base: `https://www.constituteproject.org/service/<method_name><params>`\n",
    "\n",
    "* Listas de objetos: `constitutions`, `topics`, `regions`\n",
    "\n",
    "* Busca por tópicos: `constopicsearch`, `sectionstopicsearch`\n",
    "\n",
    "* Busca textual: `textsearch`\n",
    "\n",
    "* Requisitar constituição para web: `html`\n",
    "\n",
    "#### Constituições"
   ]
  },
  {
   "cell_type": "code",
   "execution_count": null,
   "metadata": {
    "scrolled": false
   },
   "outputs": [],
   "source": [
    "c = constitute_query('constitutions', ''); C=c\n",
    "# c = constitute_query('constitutions', '?region=Africa')                # <-- constituições da África\n",
    "# c = constitute_query('constitutions', '?region=Africa&region=Europe')  # <-- constituições da África e Europa\n",
    "# c = constitute_query('constitutions', '?country=Ukraine')              # <-- constituições da Ucrânia\n",
    "# c = constitute_query('constitutions', '?from_year=1954&to_year=2000')  # <-- constituições de 1954 a 2000\n",
    "# c = constitute_query('constitutions', '?region=Europe&from_year=1960') # <-- constituições europeias desde 1960\n",
    "# c = constitute_query('constitutions', '?lang=en')                      # <-- constituições em língua inglesa\n",
    "# c = constitute_query('constitutions', '?historic=false')               # <-- constituições em vigor"
   ]
  },
  {
   "cell_type": "markdown",
   "metadata": {},
   "source": [
    "#### Tópicos"
   ]
  },
  {
   "cell_type": "code",
   "execution_count": null,
   "metadata": {},
   "outputs": [],
   "source": [
    "c = constitute_query('topics', '?lang=en') # <-- tópicos disponíveis em um idioma específico"
   ]
  },
  {
   "cell_type": "markdown",
   "metadata": {},
   "source": [
    "#### Regiões"
   ]
  },
  {
   "cell_type": "code",
   "execution_count": null,
   "metadata": {},
   "outputs": [],
   "source": [
    "c = constitute_query('locations', '?lang=en') # <-- países ou regiões cujo idioma é o inglês"
   ]
  },
  {
   "cell_type": "markdown",
   "metadata": {},
   "source": [
    "#### Busca por tópicos de uma constituição"
   ]
  },
  {
   "cell_type": "code",
   "execution_count": null,
   "metadata": {},
   "outputs": [],
   "source": [
    "c = constitute_query('constopicsearch', '?key=amend&lang=en')\n",
    "# c = constitute_query('constopicsearch', '?key=amend&region=Africa')\n",
    "# c = constitute_query('constopicsearch', '?key=amend&region=Africa&region=Europe')\n",
    "# c = constitute_query('constopicsearch', '?key=amend&country=Ukraine')\n",
    "# c = constitute_query('constopicsearch', '?key=amend&from_year=1954&to_year=2000')\n",
    "# c = constitute_query('constopicsearch', '?key=amend&historic=true')"
   ]
  },
  {
   "cell_type": "markdown",
   "metadata": {},
   "source": [
    "#### Busca por seções de uma constituição"
   ]
  },
  {
   "cell_type": "code",
   "execution_count": null,
   "metadata": {},
   "outputs": [],
   "source": [
    "c = constitute_query('sectionstopicsearch', '?key=amend&cons_id=Afghanistan_2004&lang=en')\n",
    "# c = constitute_query('sectionstopicsearch', '?key=hogterm&cons_id=China_2004&lang=en')\n",
    "# c = constitute_query('sectionstopicsearch', '?key=cabsel&cons_id=Australia_1985&lang=ar')"
   ]
  },
  {
   "cell_type": "markdown",
   "metadata": {},
   "source": [
    "#### Busca textual"
   ]
  },
  {
   "cell_type": "code",
   "execution_count": null,
   "metadata": {},
   "outputs": [],
   "source": [
    "c = constitute_query('textsearch', '?q=prime%20minister&lang=en')\n",
    "# c = constitute_query('textsearch', '?q=president&cons_id=Afghanistan_2004')"
   ]
  },
  {
   "cell_type": "markdown",
   "metadata": {},
   "source": [
    "#### Conteúdo em HTML"
   ]
  },
  {
   "cell_type": "code",
   "execution_count": null,
   "metadata": {},
   "outputs": [],
   "source": [
    "c = constitute_query('html', '?cons_id=Australia_1985&lang=en')\n",
    "# c = constitute_query('html', '?cons_id=Australia_1985&lang=ar')"
   ]
  },
  {
   "cell_type": "markdown",
   "metadata": {},
   "source": [
    "#### Carregar num data frame"
   ]
  },
  {
   "cell_type": "code",
   "execution_count": null,
   "metadata": {},
   "outputs": [],
   "source": [
    "df = concat_dict(C); df.head(1)"
   ]
  },
  {
   "cell_type": "markdown",
   "metadata": {},
   "source": [
    "### Notícias\n",
    "\n",
    "* Artigos mais vistos: `news_top_headlines`\n",
    "\n",
    "* Todos os artigos: `news_get_everything`"
   ]
  },
  {
   "cell_type": "code",
   "execution_count": null,
   "metadata": {},
   "outputs": [],
   "source": [
    "news = news_top_headlines('bolsonaro', lang='pt', days=7); print('Got', len(news), 'news')"
   ]
  },
  {
   "cell_type": "code",
   "execution_count": null,
   "metadata": {},
   "outputs": [],
   "source": [
    "news = news_get_everything('bolsonaro', lang='pt', days=7); print('Got', len(news), 'news')"
   ]
  },
  {
   "cell_type": "code",
   "execution_count": null,
   "metadata": {
    "scrolled": true
   },
   "outputs": [],
   "source": [
    "# count = 1\n",
    "# for a in news:\n",
    "#     print('\\n=> Notícia',count); count+=1\n",
    "#     for item in a: print('* %s = %s' % (item,a[item]))"
   ]
  },
  {
   "cell_type": "markdown",
   "metadata": {},
   "source": [
    "### Google\n",
    "\n",
    "* Resultados por busca textual: `google_search`\n",
    "\n",
    "* Abre uma página com o PDF retornado: `google_pdf`"
   ]
  },
  {
   "cell_type": "code",
   "execution_count": null,
   "metadata": {},
   "outputs": [],
   "source": [
    "g = google_search('Constituição+Brasil+filetype:pdf')"
   ]
  },
  {
   "cell_type": "code",
   "execution_count": null,
   "metadata": {},
   "outputs": [],
   "source": [
    "pdf = g[0].link; webbrowser.open(pdf); print(pdf)"
   ]
  },
  {
   "cell_type": "code",
   "execution_count": null,
   "metadata": {
    "scrolled": true
   },
   "outputs": [],
   "source": [
    "# print('Got', len(g), 'results')\n",
    "# count = 1\n",
    "# for a in g:\n",
    "#     print('\\n=> Página', count,\n",
    "#     '\\n* Name:', a.name,\n",
    "#     '\\n* Link:', a.link,\n",
    "#     '\\n* Description:', a.description,\n",
    "#     '\\n* Number_of_results:', a.number_of_results); count += 1"
   ]
  },
  {
   "cell_type": "markdown",
   "metadata": {},
   "source": [
    "### Wikipedia\n",
    "\n",
    "* Conteúdo de uma página: `wiki_page`\n",
    "* Buscar páginas por nome:`wiki_search`\n",
    "* Sumário de uma página: `wiki_summary`\n",
    "* Apresentar páginas relacionadas:`wiki_graph`"
   ]
  },
  {
   "cell_type": "code",
   "execution_count": null,
   "metadata": {
    "scrolled": true
   },
   "outputs": [],
   "source": [
    "w = wiki_page(\"Democracia\", lang='pt'); print(w.title, '\\n', w.url, '\\n\\nDescrição:',  w.content)"
   ]
  },
  {
   "cell_type": "code",
   "execution_count": null,
   "metadata": {},
   "outputs": [],
   "source": [
    "w = wiki_search(\"Democracia\", \"pt\");w"
   ]
  },
  {
   "cell_type": "code",
   "execution_count": null,
   "metadata": {},
   "outputs": [],
   "source": [
    "w = wiki_summary(\"Democracia\", \"pt\");w"
   ]
  },
  {
   "cell_type": "code",
   "execution_count": null,
   "metadata": {},
   "outputs": [],
   "source": [
    "w = wiki_graph([\"Democracia\",\"Governo\",\"Política\",\"Estado\"], \"pt\", n=5)\n",
    "iplot(scatter_plot(w,layout='forceatlas2',name='Artigos relacionados na Wikipedia'))"
   ]
  },
  {
   "cell_type": "markdown",
   "metadata": {},
   "source": [
    "### Twitter\n",
    "\n",
    "* Já publicados: `collect_twitter`\n",
    "* Em tempo real: `stream_tweets`\n",
    "* Viralizando: `trending_topics`"
   ]
  },
  {
   "cell_type": "code",
   "execution_count": null,
   "metadata": {
    "scrolled": true
   },
   "outputs": [],
   "source": [
    "collect_twitter('constituição+política', lang='pt', limit=10, app_keys=TWITTER_KEYS);tweets=pd.read_csv('tweets.csv')"
   ]
  },
  {
   "cell_type": "code",
   "execution_count": null,
   "metadata": {},
   "outputs": [],
   "source": [
    "stream_tweets('trump', limit=10, app_key=app_key, app_secret=app_secret, post_url=\"\",\n",
    "              oauth_token=oauth_token, oauth_secret=oauth_secret);tweets=pd.read_csv('tweets.csv')"
   ]
  },
  {
   "cell_type": "code",
   "execution_count": null,
   "metadata": {},
   "outputs": [],
   "source": [
    "trending_topics('BR', post_url=None, app_keys=TWITTER_KEYS)"
   ]
  },
  {
   "cell_type": "markdown",
   "metadata": {},
   "source": [
    "### Referências\n",
    "\n",
    "* [Comparative Constitutions Project](https://comparativeconstitutionsproject.org/)\n",
    "\n",
    "* [Constitute API Documentation](https://docs.google.com/document/d/1wATS_IAcOpNZKzMrvO8SMmjCgOZfgH97gmPedVxpMfw/pub)\n",
    "\n",
    "* [Constitute Project](https://www.constituteproject.org)\n",
    "\n",
    "* [constviz @ GitHub](https://github.com/thequbit/constviz/blob/master/README.md)\n",
    "\n",
    "* [Google Search API @ GitHub](https://github.com/abenassi/Google-Search-API)\n",
    "\n",
    "* [Glossary of constitutional terms](https://www.infoplease.com/chemistry/glossary/glossary-constitutional-terms)\n",
    "\n",
    "* [Scraping Constitute](https://sites.psu.edu/bdssblog/author/rbm166/)"
   ]
  }
 ],
 "metadata": {
  "kernelspec": {
   "display_name": "Python 3",
   "language": "python",
   "name": "python3"
  },
  "language_info": {
   "codemirror_mode": {
    "name": "ipython",
    "version": 3
   },
   "file_extension": ".py",
   "mimetype": "text/x-python",
   "name": "python",
   "nbconvert_exporter": "python",
   "pygments_lexer": "ipython3",
   "version": "3.7.3"
  }
 },
 "nbformat": 4,
 "nbformat_minor": 2
}
